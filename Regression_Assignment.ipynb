{
  "nbformat": 4,
  "nbformat_minor": 0,
  "metadata": {
    "colab": {
      "provenance": []
    },
    "kernelspec": {
      "name": "python3",
      "display_name": "Python 3"
    },
    "language_info": {
      "name": "python"
    }
  },
  "cells": [
    {
      "cell_type": "markdown",
      "source": [
        "# Regression\n"
      ],
      "metadata": {
        "id": "0_PTjpn1wi4F"
      }
    },
    {
      "cell_type": "markdown",
      "source": [
        "1. What is Simple Linear Regression?\n",
        "- Simple Linear Regression is a statistical method used to model the relationship between two variables — one independent variable (X) and one dependent variable (Y) — by fitting a straight line to the observed data.\n",
        "- The purpose of simple linear regression is to model how changes in the independent variable X are associated with changes in the dependent variable Y. It helps us predict the value of Y based on the value of X, assuming there is a linear relationship between them.\n",
        "      The general equation is:\n",
        "                 Y=mX+c\n",
        "      here:\n",
        "\n",
        "        Y is the dependent variable (target)\n",
        "        X is the independent variable (predictor)\n",
        "        m is the slope of the line\n",
        "        c is the intercept on the Y-axis\n",
        "\n",
        "- The regression line is found by minimizing the difference between the actual values and the predicted values of Y. This difference is typically minimized using the least squares method, which calculates the line that has the smallest sum of squared residuals (errors).\n",
        "- In summary, Simple Linear Regression is a way to quantify and model a linear dependency between two variables and is often used in forecasting, trend analysis, and inferential statistics."
      ],
      "metadata": {
        "id": "_t19ZspDwjBc"
      }
    },
    {
      "cell_type": "markdown",
      "source": [
        "2. What are the key assumptions of Simple Linear Regression?\n",
        "- For Simple Linear Regression to provide valid and reliable results, certain key assumptions must be met. These assumptions ensure that the linear model accurately captures the relationship between the independent and dependent variables.\n",
        "- Here are the main assumptions:\n",
        "  -  Linearity - There should be a linear relationship between the independent variable (X) and the dependent variable (Y).\n",
        "  This means the change in Y should be proportional to the change in X. If the relationship is not linear, the model’s predictions will be misleading.\n",
        "  - Independence of Errors (Residuals) - The residuals (differences between actual and predicted Y values) should be independent of each other.\n",
        "  This assumption implies that the value of one observation’s error does not influence another. This is especially important when data is collected over time (time series).\n",
        "  - Homoscedasticity (Constant Variance of Errors) - The variance of residuals should be constant across all levels of the independent variable.If the spread of residuals increases or decreases with X, it indicates heteroscedasticity, which can make the model's estimates unreliable.\n",
        "  -  Normality of Errors - The residuals should be normally distributed.This is important when you're conducting hypothesis tests (e.g., t-tests for coefficients), as these tests assume normality for accurate p-values and confidence intervals.\n",
        "  - No Significant Outliers - There should be no influential outliers that distort the regression line significantly.\n",
        "  Outliers can skew the slope, intercept, and overall fit of the model."
      ],
      "metadata": {
        "id": "snqkfnigwjEV"
      }
    },
    {
      "cell_type": "markdown",
      "source": [
        "3. What does the coefficient m represent in the equation Y=mX+c ?\n",
        "- In the linear regression equation:\n",
        "         Y=mX+c\n",
        "\n",
        "         the coefficient m is known as the slope of the regression line.\n",
        "\n",
        "- It represents the rate of change in the dependent variable (Y) with respect to a one-unit increase in the independent variable (X).\n",
        "- In simple terms:\n",
        "  - If m = 3, then for every 1 unit increase in X, Y increases by 3 units.\n",
        "  - If m = -2, then for every 1 unit increase in X, Y decreases by 2 units.\n",
        "\n",
        "- Interpretation of m:\n",
        "  - If m > 0: Y increases as X increases (positive relationship).\n",
        "  - If m < 0: Y decreases as X increases (negative relationship).\n",
        "  - If m = 0: Y stays constant as X changes (horizontal line).\n",
        "\n",
        "- Why is it important >>\n",
        "  - The slope gives direction and strength of the relationship between X and Y:\n",
        "    - A positive m means a positive relationship (as X increases, Y increases)\n",
        "    - A negative m means a negative relationship (as X increases, Y decreases)\n",
        "    - A slope close to 0 means very little or no linear relationship between X and Y\n"
      ],
      "metadata": {
        "id": "aAo_B_CSwjHG"
      }
    },
    {
      "cell_type": "markdown",
      "source": [
        "4. What does the intercept c represent in the equation Y=mX+c ?\n",
        "- In the linear equation Y = mX + c, the intercept c represents the value of Y when X is 0.\n",
        "- In simple terms:\n",
        "  - It’s the point where the line crosses the Y-axis on a graph.\n",
        "  - It tells you the starting value of Y , before any effect of X  when (x=0).\n",
        "- Example:\n",
        "   - If the equation is:\n",
        "                        Y=3X+5\n",
        "\n",
        "    - The slope (m) is 3 → this tells you how much Y changes with each unit increase in X.\n",
        "    - The intercept (c) is 5 → this tells you that when X=0,Y=5.\n",
        "    - So, the intercept gives the baseline value of the dependent variable Y, without any influence from the independent variable X."
      ],
      "metadata": {
        "id": "QWTID6_rwjJ6"
      }
    },
    {
      "cell_type": "markdown",
      "source": [
        "5. How do we calculate the slope m in Simple Linear Regression ?\n",
        "- In simple linear regression, the slope m shows how much Y changes when X changes. It is calculated using this formula:\n",
        "           m = Σ[(X - X̄) * (Y - Ȳ)] / Σ[(X - X̄)²]\n",
        "\n",
        "           Where:\n",
        "           X̄ is the mean of X values\n",
        "           Ȳ is the mean of Y values\n",
        "           Σ means summation (add up all the values)\n",
        "\n",
        "- Steps To Calculate >>\n",
        "  - Find the mean of X (X̄) and Y (Ȳ)\n",
        "  - For each data point, subtract the mean and multiply the differences: (X - X̄) * (Y - Ȳ)\n",
        "  - Add up all those results → this is the numerator\n",
        "  - Then square the (X - X̄) values and add them → this is the denominator\n",
        "  - Divide the numerator by the denominator → this is the slope m\n",
        "  "
      ],
      "metadata": {
        "id": "alSgsLUDwjM7"
      }
    },
    {
      "cell_type": "markdown",
      "source": [
        "6. What is the purpose of the least squares method in Simple Linear Regression ?\n",
        "- The purpose of the Least Squares Method in Simple Linear Regression is to find the best-fitting straight line through the data points by minimizing the sum of the squared differences between the actual values and the predicted values.\n",
        "- These differences are called residuals. The smaller the total squared residuals, the better the line fits the data.\n",
        "- In other words, the Least Squares Method helps to:\n",
        "  - Accurately estimate the slope (m) and intercept (c) of the line.\n",
        "  - Ensure the line has the least possible error between predicted and actual values.\n",
        "  - Provide the most reliable predictions for the dependent variable (Y) based on the independent variable (X).\n",
        "\n",
        "- It is called \"least squares\" because it minimizes the sum of squared errors:\n",
        "          Σ (Y_actual - Y_predicted)²\n",
        "          This is the key idea behind training a linear regression model\n",
        "\n",
        "  \n"
      ],
      "metadata": {
        "id": "W1OoEyGNwjPp"
      }
    },
    {
      "cell_type": "markdown",
      "source": [
        "7. How is the coefficient of determination (R²) interpreted in Simple Linear Regression?\n",
        "- The coefficient of determination (R²) is a statistical measure that tells us how well the regression line fits the data in Simple Linear Regression.\n",
        "- It is interpreted as the proportion of the variance in the dependent variable (Y) that is explained by the independent variable (X).\n",
        "- Key Points:\n",
        "  - R² values range between 0 and 1.\n",
        "  - If R² = 1, the model explains 100% of the variation in Y (perfect fit).\n",
        "  - If R² = 0, the model explains none of the variation in Y (poor fit).\n",
        "  - A higher R² means the model is better at predicting or explaining the data.\n",
        "- Example:\n",
        "If R² = 0.85, it means 85% of the variation in Y is explained by X, and the remaining 15% is due to other factors or random error."
      ],
      "metadata": {
        "id": "eXtl6yhGwjSe"
      }
    },
    {
      "cell_type": "markdown",
      "source": [
        "8. What is Multiple Linear Regression?\n",
        "- Multiple Linear Regression is a statistical technique used to model the relationship between one dependent variable (Y) and two or more independent variables (X₁, X₂, X₃, ... Xn).\n",
        "- It extends Simple Linear Regression, which uses only one independent variable.\n",
        "         General Equation:\n",
        "         Y = b₀ + b₁X₁ + b₂X₂ + b₃X₃ + ... + bnXn + ε\n",
        "         Where:\n",
        "         Y = Dependent variable (the one we want to predict)\n",
        "         X₁, X₂, ..., Xn = Independent variables (predictors)\n",
        "         b₀ = Intercept\n",
        "         b₁, b₂, ..., bn = Coefficients (slopes) for each independent variable\n",
        "         ε = Error term\n",
        "\n",
        "- Purpose:\n",
        "   - The goal of Multiple Linear Regression is to:\n",
        "     - Analyze how several factors influence a single outcome\n",
        "     - Make more accurate predictions by using multiple variables\n",
        "\n",
        "- Example:If you're predicting house prices:\n",
        "         Price = b₀ + b₁*(Size) + b₂*(Location) + b₃*(Age of house)\n",
        "         Each variable contributes to the final prediction.\n",
        "\n",
        "\n",
        "\n",
        "\n"
      ],
      "metadata": {
        "id": "4cn5x_wLwjVm"
      }
    },
    {
      "cell_type": "markdown",
      "source": [
        "9. What is the main difference between Simple and Multiple Linear Regression?\n",
        "- The main difference between Simple and Multiple Linear Regression lies in the number of independent variables used to predict the dependent variable.\n",
        "\n",
        "- Simple Linear Regression:\n",
        "  - Uses only one independent variable.\n",
        "  - Equation: Y = b₀ + b₁X + ε\n",
        "  - Example: Predicting salary based on years of experience.\n",
        "  - Number of predictors - One\n",
        "  - Model Complexity -\tLow\n",
        "  - Use Case -\tBasic relationships\n",
        "\n",
        "- Multiple Linear Regression:\n",
        "  - Uses two or more independent variables.\n",
        "  - Equation: Y = b₀ + b₁X₁ + b₂X₂ + ... + bnXn + ε\n",
        "  - Example:Predicting house price based on size, location, and number of bedrooms.\n",
        "  - - Number of predictors - Two or more\n",
        "  - Model Complexity -\tHigher\n",
        "  - Use Case -\tComplex, real-world relationships\n"
      ],
      "metadata": {
        "id": "Ztoc9DQJwjYj"
      }
    },
    {
      "cell_type": "markdown",
      "source": [
        "10. What are the key assumptions of Multiple Linear Regression ?\n",
        "- To use Multiple Linear Regression properly, several key assumptions must be satisfied. These assumptions ensure that the model gives valid and reliable results.\n",
        "- Key Assumptions:\n",
        "  - Linearity >>\n",
        "    - There should be a linear relationship between the dependent variable and each independent variable.\n",
        "  - Independence of Errors >>\n",
        "    - The residuals (errors) should be independent of each other.\n",
        "    - No autocorrelation (especially important in time series data).\n",
        "  - Homoscedasticity (Constant Variance of Errors) >>\n",
        "    - The residuals should have constant variance at all levels of the independent variables.\n",
        "    - This means the spread of errors should be even across the regression line.\n",
        "  - Normality of Errors >>\n",
        "    - The residuals should be normally distributed.\n",
        "    - This is especially important for hypothesis testing and confidence intervals.\n",
        "  - No Multicollinearity >>\n",
        "    - The independent variables should not be too highly correlated with each other.\n",
        "    - High multicollinearity can make coefficient estimates unstable.\n",
        "    \n",
        "  "
      ],
      "metadata": {
        "id": "FiPhBS5GwjbO"
      }
    },
    {
      "cell_type": "markdown",
      "source": [
        "11. What is Heteroscedasticity, and how does it affect the results of a Multiple Linear Regression model?\n",
        "- Heteroscedasticity occurs when the variance of the residuals (errors) is not constant across all levels of the independent variables in a regression model.\n",
        "- In simple terms, it means the spread of errors changes as the predicted values change — for example, errors may be small for low values of Y but large for high values.\n",
        "- How to Spot Heteroscedasticity - When plotting residuals vs. predicted values, if the points fan out or form a pattern, it indicates heteroscedasticity.\n",
        "- Effects on Regression Results:\n",
        "  - Unreliable Coefficient Estimates - The estimates of the standard errors become incorrect.\n",
        "  - Incorrect p-values and Confidence Intervals - This may lead to wrong conclusions about which variables are significant.\n",
        "  - Reduced Model Efficiency - Although the coefficients (b-values) remain unbiased, they are no longer efficient, meaning you might not be getting the best predictions.\n",
        "\n",
        "- Ideal Scenario: In a well-behaved model, the errors should show homoscedasticity — that is, constant variance across all observations."
      ],
      "metadata": {
        "id": "aCajmwFlwjeO"
      }
    },
    {
      "cell_type": "markdown",
      "source": [
        "12. How can you improve a Multiple Linear Regression model with high multicollinearity ?\n",
        "- Multicollinearity occurs when two or more independent variables in a regression model are highly correlated with each other. This makes it difficult to understand the effect of each variable and leads to unstable and unreliable coefficient estimates.\n",
        "- Ways to Improve the Model:\n",
        " - Remove Highly Correlated Predictors >>\n",
        "   - Check correlation matrix or VIF (Variance Inflation Factor).\n",
        "   - Drop or combine variables with high correlation (e.g., above 0.8).\n",
        " - Use Principal Component Analysis (PCA) >>\n",
        "   - PCA transforms correlated features into a smaller set of uncorrelated components, which can be used in the model.\n",
        " - Apply Regularization Techniques >>\n",
        "   - Use models like Ridge Regression or Lasso Regression which can handle multicollinearity by shrinking or eliminating less important features.\n",
        " - Combine Related Variables >>\n",
        "   - If two variables are highly correlated, you can combine them into a single feature (e.g., by averaging).\n",
        " - Collect More Data >>\n",
        "   - Sometimes, multicollinearity issues reduce when more data is added to the model.\n",
        "  "
      ],
      "metadata": {
        "id": "Qn10nk_fwjhA"
      }
    },
    {
      "cell_type": "markdown",
      "source": [
        "13. What are some common techniques for transforming categorical variables for use in regression models?\n",
        "- Categorical variables contain labels or categories (like \"Male\"/\"Female\" or \"Red\"/\"Green\"/\"Blue\") which need to be converted into numerical form before they can be used in regression models.\n",
        "- Common Techniques:\n",
        " - Label Encoding >>\n",
        "   - Converts categories into numeric labels (0, 1, 2, etc.)\n",
        "   - Example: [\"Red\", \"Green\", \"Blue\"] - [0, 1, 2]\n",
        "   - Use only when the categories have a natural order (e.g., Low < Medium < High)\n",
        " - One-Hot Encoding >>\n",
        "   - Creates a new binary column for each category\n",
        "   - Example:\"Red\" → [1, 0, 0], \"Green\" → [0, 1, 0], \"Blue\" → [0, 0, 1]\n",
        "   - Suitable for nominal data (no natural order)\n",
        " - Ordinal Encoding >>\n",
        "   - Assigns numbers based on rank or order\n",
        "   - Example: [\"Small\", \"Medium\", \"Large\"] → [1, 2, 3]\n",
        "   - Use when there is a clear hierarchy among categories\n",
        " - Binary Encoding / Target Encoding / Frequency Encoding (Advanced) >>\n",
        "   -  These are more complex and used in high-cardinality features (many unique categories)"
      ],
      "metadata": {
        "id": "YVNAyGuowjjq"
      }
    },
    {
      "cell_type": "markdown",
      "source": [
        "14. What is the role of interaction terms in Multiple Linear Regression?\n",
        "- Interaction terms in Multiple Linear Regression are used to capture the combined effect of two or more independent variables on the dependent variable, which may not be explained by their individual effects alone.\n",
        "- Why Interaction Terms Are Important:\n",
        "  - Sometimes, the effect of one variable on the outcome depends on the value of another variable.\n",
        "  - Interaction terms help the model understand and represent such combined influences.\n",
        "-  Example: Suppose you're predicting sales based on Advertising and Season.\n",
        "    - Individually:\n",
        "      - Advertising increases sales.\n",
        "      - Season also affects sales.\n",
        "    - But together:\n",
        "      - The effect of Advertising might be stronger in the festive season.\n",
        " - So, the model could include an interaction term:\n",
        "            Sales = b₀ + b₁*(Advertising) + b₂*(Season) + b₃*(Advertising × Season)\n",
        "            Here, b₃ captures the interaction effect.\n"
      ],
      "metadata": {
        "id": "AMM_QYD_wjmy"
      }
    },
    {
      "cell_type": "markdown",
      "source": [
        "15. How can the interpretation of the intercept differ between Simple and Multiple Linear Regression?\n",
        "- The intercept is the point where the regression line crosses the Y-axis. It represents the expected value of the dependent variable (Y) when all independent variables (X’s) are equal to zero.\n",
        "- However, the context and interpretation of the intercept can differ depending on the number of independent variables:\n",
        "\n",
        "\n",
        "- In Simple Linear Regression >>\n",
        "  - The intercept (b₀) is the value of Y when X = 0.\n",
        "  - There is only one independent variable.\n",
        "  - It is generally easier to interpret because the relationship is straightforward.\n",
        "  - Example:If you're predicting someone's salary based on years of experience:\n",
        "            Salary = b₀ + b₁*(Experience)\n",
        "\n",
        "    - Then, b₀ (the intercept) tells you the expected salary when experience = 0 (i.e., someone with no experience at all).\n",
        "    - In many real-world cases, this has a clear and realistic meaning.\n",
        "\n",
        "\n",
        "- In Multiple Linear Regression >>\n",
        "  - There are two or more independent variables.\n",
        "  - The intercept now represents the value of Y when all independent variables are equal to zero at the same time.\n",
        "  - This can be difficult or even meaningless to interpret if a situation where all predictors are zero doesn't make sense.\n",
        "  - Example:If you're predicting house price:\n",
        "           Price = b₀ + b₁*(Size) + b₂*(Location Score) + b₃*(Age of House)\n",
        "      - Then b₀ is the predicted price when the Size = 0, Location Score = 0, and Age = 0 — which might not be a realistic or valid combination in the real world.\n",
        "\n",
        "- So, while mathematically the intercept always refers to the predicted Y when inputs are zero, its practical interpretation depends on whether you are working with a simple or a more complex multiple regression model.\n",
        "\n"
      ],
      "metadata": {
        "id": "CoIHitdXwjpl"
      }
    },
    {
      "cell_type": "markdown",
      "source": [
        "16. What is the significance of the slope in regression analysis, and how does it affect predictions ?\n",
        "- In regression analysis, the slope is one of the most important components of the regression equation. It represents the rate of change in the dependent variable (Y) for a one-unit increase in the independent variable (X), assuming all other variables remain constant.\n",
        "- Significance of the Slope:\n",
        "  - The slope tells us how strongly and in what direction the independent variable influences the dependent variable.\n",
        "  - Direction of Relationship >>\n",
        "    - If the slope is positive, Y increases as X increases (direct relationship).\n",
        "    - If the slope is negative, Y decreases as X increases (inverse relationship).\n",
        "    - Magnitude of Change >>\n",
        "      - The value of the slope tells you how big the change in Y will be for each unit change in X.\n",
        "      - A larger slope means a stronger influence of X on Y.\n",
        "    - Prediction Power >>\n",
        "      - Slopes are the core of prediction in regression.\n",
        "      - When we input a new value of X, the slope is used to calculate the predicted value of Y.\n",
        "    \n",
        "- In Multiple Linear Regression:Each independent variable has its own slope.Each slope tells you the impact of that variable on the prediction while holding all other variables constant.\n",
        "\n"
      ],
      "metadata": {
        "id": "Iz2rGpkLwjsh"
      }
    },
    {
      "cell_type": "markdown",
      "source": [
        "17. How does the intercept in a regression model provide context for the relationship between variables?\n",
        "- In a regression model, the intercept is a key component that helps define the relationship between the dependent variable and the independent variable(s). It is typically denoted as β0 in the regression equation and represents the expected value of the dependent variable when all independent variables are equal to zero.\n",
        "       \n",
        "- Role and Contextual Significance of the Intercept:\n",
        " - Baseline Value of the Dependent Variable: The intercept indicates the predicted value of the dependent variable when all independent variables are zero. It acts as the starting point of the regression line on the Y-axis.\n",
        " - Reference for Interpretation of Other Coefficients: The intercept sets the baseline from which the effect of each independent variable is measured. In other words, changes in the dependent variable due to changes in independent variables are calculated relative to the intercept.\n",
        " - Contextual Relevance: The interpretability of the intercept depends on whether the value zero is meaningful for the independent variables. For example, if we are predicting car prices based on mileage, the intercept represents the predicted price of a car with 0 mileage. In this context, it may represent the price of a brand-new car. However, in some cases (e.g., zero age for adult income prediction), the intercept may not be practically meaningful but is still mathematically necessary.\n",
        " - In Multiple Linear Regression: When there are multiple independent variables, the intercept represents the expected value of the dependent variable when all independent variables are zero simultaneously. Its interpretation becomes more complex, especially if the scenario of all predictors being zero is unrealistic.\n",
        "\n",
        "- The intercept in a regression model provides an essential baseline that helps understand the relationship between the variables. While its practical interpretation depends on the context of the data, it remains a critical component of the model for making accurate predictions and interpreting the influence of other variables. Understanding the role of the intercept enables better insights into how changes in independent variables affect the outcome of interest.\n",
        "\n"
      ],
      "metadata": {
        "id": "r_ytFZVawjvK"
      }
    },
    {
      "cell_type": "markdown",
      "source": [
        "18. What are the limitations of using R² as a sole measure of model performance?\n",
        "- The R-squared (R²) value, also known as the coefficient of determination, is a commonly used statistical measure that indicates the proportion of the variance in the dependent variable that is predictable from the independent variables. While R² provides useful information about the explanatory power of a model, relying solely on it for evaluating model performance has several limitations.\n",
        "\n",
        "- Limitations of Using R² Alone:\n",
        " - Does Not Indicate Predictive Accuracy: A high R² value does not necessarily mean that the model has good predictive power on new or unseen data. It only explains the fit of the model on the current dataset, not its generalization ability.\n",
        " - Insensitive to Overfitting: R² tends to increase as more predictors are added to the model, even if they are not statistically significant. This can lead to overfitting, where the model fits the training data very well but performs poorly on test data.\n",
        " - Does Not Reflect Model Bias or Variance: R² does not provide any information about bias, variance, or errors in predictions. A model with high bias or high variance might still have a moderate or high R².\n",
        " - Cannot Compare Different Types of Models: R² is specific to linear regression and cannot be used to compare the performance of non-linear models, classification models, or models with different target transformations.\n",
        " - Misleading for Non-linear Relationships: If the underlying relationship between variables is non-linear and a linear regression model is used, R² may give a low value even if the relationship is strong but not linear.\n",
        " - Ignores the Scale and Units of Errors: R² does not tell us anything about the actual magnitude of prediction errors. Two models with the same R² could have very different Mean Absolute Error (MAE) or Root Mean Squared Error (RMSE) values.\n",
        " - Not Informative for Models Without Intercept: In models without an intercept term, R² can produce misleading results or even negative values, making its interpretation unreliable.\n",
        "\n",
        "- While R² is a useful metric to understand how well a model explains the variability of the dependent variable, it should not be used as the sole measure of model performance. It is important to use additional metrics such as Adjusted R², RMSE, MAE, MAPE, and cross-validation techniques to comprehensively evaluate a model’s accuracy, robustness, and generalization capability. A balanced use of these metrics leads to more reliable model assessment and better decision-making.\n",
        "\n"
      ],
      "metadata": {
        "id": "iYiIV9I6CzbV"
      }
    },
    {
      "cell_type": "markdown",
      "source": [
        "19. How would you interpret a large standard error for a regression coefficient?\n",
        "- In regression analysis, the standard error of a regression coefficient measures the variability or uncertainty in the estimate of that coefficient. It reflects how much the coefficient would vary if the same model were fitted to different samples drawn from the same population.\n",
        "\n",
        "- Interpretation of a Large Standard Error: A large standard error for a regression coefficient indicates a high level of uncertainty or instability in the estimated value of that coefficient. This has several important implications:\n",
        "\n",
        " - Low Precision in Coefficient Estimate:\n",
        "    - A large standard error means that the estimate of the coefficient is not precise. In other words, if we were to collect new samples and refit the model, the coefficient could vary widely.\n",
        "\n",
        " - Lower Statistical Significance:\n",
        "   - The standard error is used in calculating the t-statistic and p-value for testing the null hypothesis that the coefficient is equal to zero. A large standard error leads to a smaller t-statistic and a higher p-value, which reduces the likelihood of the coefficient being statistically significant.\n",
        "\n",
        " - Possible Multicollinearity:\n",
        "   - In multiple regression models, a large standard error can be a sign of multicollinearity, where two or more independent variables are highly correlated. This makes it difficult for the model to isolate the individual effect of each predictor, resulting in unstable coefficient estimates.\n",
        "\n",
        " - Model May Lack Useful Information:\n",
        "   - A large standard error may suggest that the corresponding variable does not contribute significantly to explaining the variation in the dependent variable. It might be a candidate for removal, especially if it also has a high p-value.\n",
        "\n",
        " - Wider Confidence Interval:\n",
        "   - A large standard error leads to a wider confidence interval for the coefficient, meaning we are less confident about the true value of the parameter.\n",
        "\n",
        "- A large standard error for a regression coefficient indicates greater uncertainty in the estimated effect of that predictor. It may reflect low reliability, insufficient data, multicollinearity, or that the variable is not significantly related to the outcome. In such cases, further analysis is needed to assess the model structure, remove irrelevant variables, or gather more data to improve the robustness of the estimates."
      ],
      "metadata": {
        "id": "Ej7yJ9bpCzy1"
      }
    },
    {
      "cell_type": "markdown",
      "source": [
        "20. How can heteroscedasticity be identified in residual plots, and why is it important to address it ?\n",
        "- In regression analysis, heteroscedasticity refers to a condition where the variance of residuals (errors) is not constant across all levels of the independent variable(s). This violates a key assumption of ordinary least squares (OLS) regression, which assumes homoscedasticity, or constant variance of residuals.\n",
        "\n",
        "- Identifying Heteroscedasticity in Residual Plots:\n",
        " - Heteroscedasticity can be visually detected using residual plots, where residuals are plotted against:\n",
        "   - The predicted (fitted) values, or\n",
        "   - An independent variable.\n",
        "\n",
        " - Common patterns that indicate heteroscedasticity:\n",
        "   - Fan Shape (Cone Pattern):\n",
        "     - The spread of residuals increases or decreases as the fitted values increase.\n",
        "     - Appears like a funnel or cone, indicating increasing or decreasing variance.\n",
        "\n",
        "  - Systematic Patterns:\n",
        "    - Any non-random pattern (e.g., curves, clusters) in the residual plot suggests that the variance is not constant.\n",
        "\n",
        "  - Spread Varies Across Values:\n",
        "    - Residuals are tightly clustered in one region and widely spread in another.\n",
        "\n",
        "- Example:A scatterplot of residuals that starts narrow and gradually fans out as the predicted values increase is a classic sign of heteroscedasticity.\n",
        "\n",
        "- Why It Is Important to Address Heteroscedasticity >>\n",
        " - Biased Standard Errors:\n",
        "   - Heteroscedasticity leads to incorrect standard error estimates, which affects hypothesis tests and confidence intervals.\n",
        "   - As a result, t-tests and p-values may become unreliable, leading to incorrect conclusions about the significance of coefficients.\n",
        "\n",
        "  - Inefficient Estimators:\n",
        "    - While OLS estimators remain unbiased, they are no longer efficient (i.e., they do not have the smallest possible variance).\n",
        "    - This weakens the predictive power of the model.\n",
        "\n",
        "  - Violates Regression Assumptions:\n",
        "    - It violates one of the core OLS assumptions, compromising the validity of statistical inference.\n",
        "\n",
        "  - Affects Model Interpretation:\n",
        "    - When variance of errors is not constant, the impact of predictor variables on the dependent variable might appear stronger or weaker than it actually is.\n",
        "\n",
        "- Addressing Heteroscedasticity:To deal with heteroscedasticity, the following methods can be used:\n",
        " - Data Transformation: Apply transformations like log, square root, or Box-Cox to stabilize variance.\n",
        " - Weighted Least Squares (WLS): Assign weights to observations to reduce the effect of non-constant variance.\n",
        " - Robust Standard Errors: Use heteroscedasticity-consistent standard errors to make inference valid.\n",
        " - Redefine Model: Revisit variable selection and check for omitted variables that could explain the variance."
      ],
      "metadata": {
        "id": "_dOg5Q87Cz73"
      }
    },
    {
      "cell_type": "markdown",
      "source": [
        "21. What does it mean if a Multiple Linear Regression model has a high R² but low adjusted R²?\n",
        "- In multiple linear regression, both R² and Adjusted R² are used to assess the goodness-of-fit of the model. However, they serve slightly different purposes:\n",
        " - R² (Coefficient of Determination): Measures the proportion of variance in the dependent variable that is explained by the independent variables.\n",
        " - djusted R²: Adjusts the R² value for the number of predictors in the model. It penalizes the model for including unnecessary or irrelevant variables.\n",
        "\n",
        "- Interpretation of High R² but Low Adjusted R²: If a multiple regression model shows a high R² but a low adjusted R², it generally indicates that:\n",
        "\n",
        "- Unnecessary Variables Are Included:\n",
        "  - The model contains one or more independent variables that do not contribute meaningfully to explaining the variability in the dependent variable.\n",
        "  - These variables inflate the R² value without improving the model’s actual performance.\n",
        "\n",
        "- Overfitting the Model:\n",
        "  - The model may be overfitting the training data by including too many predictors, especially ones that are not statistically significant.\n",
        "  - This leads to a model that looks good on paper but performs poorly on unseen data.\n",
        "\n",
        "- Poor Model Quality Despite High R²:\n",
        "  - A high R² alone may give a false sense of model accuracy, but the low adjusted R² corrects for this illusion, signaling that the model is not as strong as it appears.\n",
        "\n",
        "- Adjusted R² Can Decrease with More Predictors:\n",
        "  - If added variables do not improve the model significantly, adjusted R² can decrease, while R² can still increase or remain high.\n",
        "\n",
        "- Example:Suppose a model predicting house prices includes:\n",
        " - Meaningful variables: area, location, number of rooms.\n",
        " - Irrelevant variables: house color, name of street, owner's birth year.\n",
        "\n",
        "  - Including the irrelevant variables may result in a high R² due to increased complexity, but the adjusted R² will be lower, indicating the model is not genuinely improved.\n",
        "\n",
        "\n",
        "- A high R² but low adjusted R² suggests that the model includes predictors that do not significantly contribute to explaining the target variable and may lead to overfitting. It serves as a warning to simplify the model by removing redundant or non-informative variables, thereby improving both the interpretability and the predictive power of the regression model."
      ],
      "metadata": {
        "id": "G2T9rwD3C0Ej"
      }
    },
    {
      "cell_type": "markdown",
      "source": [
        "22. Why is it important to scale variables in Multiple Linear Regression?\n",
        "- In multiple linear regression, scaling variables refers to transforming features so that they are on a similar scale, typically through standardization (z-score) or normalization (min-max scaling). Although scaling is not always strictly necessary for regression to function, it becomes important in several scenarios, especially when the model includes variables with different units or magnitudes.\n",
        "\n",
        "- Reasons Why Scaling is Important:\n",
        " - Improves Interpretability of Coefficients:\n",
        "   - When variables are on the same scale, it is easier to compare the relative importance of each predictor.\n",
        "   - Coefficients become more meaningful because they are based on comparable units.\n",
        "\n",
        " - Enhances Numerical Stability:\n",
        "   - Variables with widely different magnitudes can lead to numerical instability in the matrix calculations (e.g., inversion of XᵀX).\n",
        "   - Scaling reduces the risk of computational errors, especially in models with a large number of variables.\n",
        "\n",
        " - Important for Regularized Regression:\n",
        "   - In Ridge and Lasso Regression, unscaled variables can bias the regularization penalty, as coefficients for larger-scaled features may be penalized more heavily.\n",
        "   - Scaling ensures that each feature is penalized equally, which is critical for fair and accurate model training.\n",
        "\n",
        " - Helps in Feature Selection and Gradient Descent (if used):\n",
        "   - If optimization techniques like gradient descent are used to estimate coefficients, scaling speeds up convergence.\n",
        "   - Unscaled data can slow down or even mislead the optimization process due to uneven step sizes.\n",
        "\n",
        "\n",
        "- Scaling variables in multiple linear regression is essential when features differ significantly in their scales or units. It ensures numerical stability, enhances model interpretability, and is critical when using regularization techniques. Therefore, scaling is considered a best practice, especially in models involving complex or real-world datasets.\n",
        "\n"
      ],
      "metadata": {
        "id": "7DtUm6G4C0NE"
      }
    },
    {
      "cell_type": "markdown",
      "source": [
        "23. What is polynomial regression ?\n",
        "- Polynomial Regression is a type of regression analysis where the relationship between the independent variable (x) and the dependent variable (y) is modeled as an nth-degree polynomial. It is an extension of linear regression, used when the data shows a non-linear relationship that a straight line cannot capture accurately.\n",
        "- Mathematical Form:\n",
        "   - The general form of a polynomial regression model is:\n",
        "          y = β0 + β1*x + β2*x^2 + β3*x^3 + ... + βn*x^n + ε\n",
        "          Where:\n",
        "          y = predicted value (dependent variable)\n",
        "          x = independent variable\n",
        "          β0, β1, ..., βn = regression coefficients\n",
        "          ε = error term\n",
        "          n = degree of the polynomial\n",
        "\n",
        "- Why Polynomial Regression is Used:\n",
        " - Captures Non-linear Relationships:\n",
        "When data shows curves or bends, polynomial regression can model that pattern better than linear regression.\n",
        "- Better Fit for Complex Data:\n",
        "For data that increases or decreases at a non-constant rate, polynomial terms allow the model to follow the curve more closely.\n",
        "\n",
        "- Polynomial regression is a powerful technique for modeling non-linear relationships using a linear model framework with transformed features. It allows the regression curve to bend and twist to fit the data, but should be used with care to avoid overfitting.\n",
        "\n",
        "\n"
      ],
      "metadata": {
        "id": "g_4nnrfeC0VZ"
      }
    },
    {
      "cell_type": "markdown",
      "source": [
        "24. How does Polynomial Regression differ from Linear Regression ?\n",
        "- Linear Regression and Polynomial Regression are both techniques used to model relationships between a dependent variable and one or more independent variables. However, they differ in terms of the model’s complexity and the type of relationships they can represent\n",
        "\n",
        "- 1. Model Form >>\n",
        "  - Polynomial Regression:\n",
        "    - The relationship between the dependent and independent variable is modeled as a polynomial of degree n.\n",
        "    - The model is expressed as:\n",
        "                y = β0 + β1*x + β2*x^2 + β3*x^3 + ... + βn*x^n + ε\n",
        "\n",
        "                where\n",
        "                y = dependent variable\n",
        "                x = independent variable\n",
        "                β0, β1 = coefficients\n",
        "                ε = error term\n",
        "                n = degree of the polynomial (e.g., 2 for quadratic, 3 for cubic)\n",
        "  - Linear Regression:\n",
        "    - The relationship between the dependent and independent variable is assumed to be linear.\n",
        "    - The model is expressed as a straight line in the form:\n",
        "                y = β0 + β1*x + ε\n",
        "                where\n",
        "                y = dependent variable\n",
        "                x = independent variable\n",
        "                β0, β1 = coefficients\n",
        "                ε = error term\n",
        "\n",
        "- 2. Relationship Type >>\n",
        "  - Polynomial Regression:\n",
        "    -  Captures non-linear relationships, allowing for curves and bends in the data.\n",
        "   - Best suited for data where the relationship between variables is not straight and needs higher-order terms to fit the curve (e.g., growth rate, acceleration).\n",
        "      \n",
        " - Linear Regression:\n",
        "   - Assumes a straight-line relationship between the dependent and independent variables.\n",
        "   - Best suited for data where the relationship can be captured by a linear function (e.g., price vs. quantity sold).\n",
        "\n",
        "- 3. Flexibility >>\n",
        " - Polynomial Regression:\n",
        "   - More flexible, as it can fit curves of varying degrees (quadratic, cubic, etc.).\n",
        "   - Can fit data that shows a curved pattern, making it suitable for more complex, non-linear data.\n",
        "\n",
        " - Linear Regression:\n",
        "   - Less flexible, as it only fits straight lines. It is limited to simple linear trends.\n",
        "   - Doesn’t capture complex patterns well in data that is inherently non-linear.\n",
        "\n",
        "- 4. Overfitting Risk >>\n",
        "  - Polynomial Regression:\n",
        "    - Higher-degree polynomial models are more prone to overfitting, especially when the degree is too high for the dataset.\n",
        "    - As the degree increases, the model may fit the training data too closely, capturing noise and irrelevant fluctuations, which can lead to poor generalization on new data.\n",
        "\n",
        "  - Linear Regression:\n",
        "    - Less prone to overfitting, especially when there are fewer predictors and when the relationship is genuinely linear.\n",
        "\n",
        "- 5. Interpretability >>\n",
        "  - Polynomial Regression:\n",
        "    - Harder to interpret as the relationship between the predictors and outcome is more complex.\n",
        "    - High-degree polynomial models may be difficult to explain clearly.\n",
        "\n",
        "  - Linear Regression:\n",
        "    - Easier to interpret, as the relationship between the variables is straightforward.\n",
        "    - Coefficients indicate the linear influence of each predictor on the outcome.\n",
        "\n",
        "- While Linear Regression is best suited for modeling linear relationships with simple data, Polynomial Regression is used when the data exhibits non-linear trends. Polynomial regression adds more complexity by introducing higher-order terms to the model, providing more flexibility but also increasing the risk of overfitting. Choosing between the two depends on the nature of the data and the underlying relationship.\n"
      ],
      "metadata": {
        "id": "WrzfD2DeC0eJ"
      }
    },
    {
      "cell_type": "markdown",
      "source": [
        "25. When is Polynomial Regression used?\n",
        "- Polynomial Regression is used when the relationship between the independent variable and the dependent variable is non-linear, and a simple straight-line model (i.e., linear regression) is not able to capture the underlying pattern in the data. Instead of fitting a straight line, polynomial regression fits a curved line by including higher-degree powers of the independent variable.\n",
        "\n",
        "- Situations When Polynomial Regression is Used:\n",
        "\n",
        "- When the Data Shows a Curved Pattern:\n",
        "  - If a scatter plot of the data points suggests a non-linear trend, such as a parabolic or S-shaped curve, polynomial regression is often more appropriate.\n",
        "  - Example: Modeling the trajectory of a ball, where height depends on time in a curved path.\n",
        "\n",
        "- When Linear Regression Underfits:\n",
        "  - If a linear model results in high residuals or low performance, and the data appears to follow a non-linear pattern, using a polynomial regression model can improve accuracy.\n",
        "\n",
        "- In Engineering and Physics Problems:\n",
        "  - Many real-world phenomena such as acceleration, growth curves, and heat transfer follow polynomial relationships, especially when variables interact in non-linear ways.\n",
        "\n",
        "- In Business and Economics:\n",
        "  - It can be used to model diminishing returns, profit curves, or price-demand relationships, which often exhibit a non-linear trend.\n",
        "\n",
        "- When Higher Flexibility is Required:\n",
        "  - Polynomial regression allows for more flexibility than linear regression by adjusting the degree of the polynomial to fit complex relationships.\n",
        "\n",
        "\n",
        "- Polynomial regression is used when data shows a non-linear trend that cannot be effectively captured by a straight line. It is useful in fields like science, engineering, business, and economics where relationships between variables often follow a curved pattern. However, care should be taken to choose the right degree of the polynomial to avoid overfitting the model."
      ],
      "metadata": {
        "id": "QTbxHwEOC0mq"
      }
    },
    {
      "cell_type": "markdown",
      "source": [
        "26. What is the general equation for Polynomial Regression?\n",
        "- The general equation for Polynomial Regression represents the relationship between the dependent variable (y) and the independent variable (x) as a polynomial function of degree n. Unlike linear regression, which fits a straight line, polynomial regression fits a curved line by including higher-order terms of the predictor variable.\n",
        "\n",
        "       General Equation:\n",
        "       y = β0 + β1*x + β2*x^2 + β3*x^3 + ... + βn*x^n + ε\n",
        "       where:\n",
        "       y = dependent variable (predicted output)\n",
        "       x = independent variable (input feature)\n",
        "       β0 = intercept term\n",
        "       β1, β2, ..., βn = coefficients for each polynomial term\n",
        "       x^2, x^3, ..., x^n = higher-order terms (squared, cubic, etc.)\n",
        "       n = degree of the polynomial\n",
        "       ε = error term or residual\n",
        "\n",
        "\n",
        "- The general polynomial regression equation extends the simple linear regression model by adding non-linear terms to better fit complex data. The degree of the polynomial (n) controls how flexible the model is in capturing curved trends.\n",
        "\n"
      ],
      "metadata": {
        "id": "B2KmnW2dC0u8"
      }
    },
    {
      "cell_type": "markdown",
      "source": [
        "27. Can Polynomial Regression be applied to multiple variables?\n",
        "- Yes, Polynomial Regression can be applied to multiple variables. When there is more than one independent variable, polynomial regression is extended to include polynomial terms and interaction terms for those variables. This is known as Multivariate Polynomial Regression.\n",
        "\n",
        "- Explanation:\n",
        "            In multivariate polynomial regression, the model includes:\n",
        "            Polynomial terms (e.g., x1^2, x2^3)\n",
        "            Interaction terms (e.g., x1x2, x1^2x2)\n",
        "\n",
        "      - These help to model more complex, non-linear relationships between the predictors and the target variable.\n",
        "\n",
        "- Polynomial regression can be effectively used with multiple variables by incorporating polynomial and interaction terms. This helps to capture complex patterns in the data. However, using too many variables or too high a degree can lead to overfitting, so it’s important to balance complexity with performance."
      ],
      "metadata": {
        "id": "tWxcBLKQC03n"
      }
    },
    {
      "cell_type": "markdown",
      "source": [
        "28. What are the limitations of Polynomial Regression?\n",
        "- While Polynomial Regression is useful for modeling non-linear relationships, it also comes with several limitations that can affect its performance and interpretability. Understanding these limitations is important for choosing the right model for a given dataset.\n",
        "\n",
        "- Overfitting >>\n",
        "  - Polynomial regression can easily overfit the data, especially when the degree of the polynomial is too high.\n",
        "  - This means the model may fit the training data very well but perform poorly on new or unseen data.\n",
        "\n",
        "- Interpretability >>\n",
        "  - As the degree increases, the model becomes more complex and difficult to interpret.\n",
        "  - Higher-order terms and interactions between variables make it harder to understand the influence of each variable.\n",
        "\n",
        "- Sensitive to Outliers >>\n",
        "  - Polynomial regression is highly sensitive to extreme values.\n",
        "  - A few outliers can significantly distort the curve and lead to misleading results.\n",
        "\n",
        "- Poor Extrapolation >>\n",
        "  - Polynomial regression performs poorly when used for prediction outside the range of the training data.\n",
        "  - The curve can increase or decrease sharply beyond the data range, giving unrealistic predictions.\n",
        "\n",
        "- Increased Computational Complexity >>\n",
        "  - As the number of variables and the degree of the polynomial increase, the number of features grows rapidly.\n",
        "  - This can lead to longer training times and increased computational cost.\n",
        "\n",
        "- Risk of Multicollinearity >>\n",
        "  - Polynomial terms (like x, x², x³) are often highly correlated with each other.\n",
        "  - This multicollinearity can lead to unstable coefficient estimates and reduce model reliability.\n",
        "\n",
        "- Although polynomial regression is powerful for modeling non-linear trends, it must be used carefully. Overfitting, complexity, and sensitivity to outliers are common issues. It's important to choose the degree of the polynomial wisely and validate the model using cross-validation or regularization techniques when necessary.\n",
        "  "
      ],
      "metadata": {
        "id": "PIWfOfy9C1Au"
      }
    },
    {
      "cell_type": "markdown",
      "source": [
        "29. What methods can be used to evaluate model fit when selecting the degree of a polynomial ?\n",
        "- When using Polynomial Regression, selecting the appropriate degree of the polynomial is crucial to avoid underfitting or overfitting. Several methods can be used to evaluate the model fit and help decide the optimal polynomial degree.\n",
        "\n",
        "- R-squared (R²) and Adjusted R-squared:\n",
        "  - R-squared measures how well the model explains the variance in the target variable.\n",
        "  - Adjusted R-squared penalizes unnecessary complexity and is more reliable for comparing models with different numbers of predictors.\n",
        "  - If R² increases but adjusted R² decreases, it may indicate overfitting.\n",
        "\n",
        "- Cross-Validation (e.g., k-Fold Cross-Validation):\n",
        "  - This technique divides the data into training and validation sets multiple times.\n",
        "  - It helps assess how well the model generalizes to unseen data.\n",
        "  - By comparing cross-validation scores for different degrees, the best-fitting polynomial can be selected.\n",
        "\n",
        "- Mean Squared Error (MSE) / Root Mean Squared Error (RMSE):\n",
        " - MSE and RMSE calculate the average squared difference between predicted and actual values.\n",
        " - These are used to evaluate how well the model fits both training and validation data.\n",
        " - Lower values indicate better model performance.\n",
        "\n",
        "- Visual Inspection of the Fit:\n",
        "  - Plotting the data along with the fitted curve helps to visually assess the model.\n",
        "  - If the curve is too wavy or overly complex, it may suggest overfitting.\n",
        "  - A good fit should follow the trend of the data without being too erratic.\n",
        "\n",
        "- Learning Curves:\n",
        "  - A learning curve shows the model's performance on training and validation sets as the degree increases.\n",
        "  - If validation error starts increasing while training error decreases, it indicates overfitting.\n",
        "\n",
        "- To select the best degree for a polynomial regression model, it’s essential to use a combination of statistical metrics, validation techniques, and visual inspection. Cross-validation and adjusted R-squared are especially useful to balance model complexity and generalization ability."
      ],
      "metadata": {
        "id": "s7L2k51jC1JW"
      }
    },
    {
      "cell_type": "markdown",
      "source": [
        "30. Why is visualization important in Polynomial Regression?\n",
        "- Visualization plays a crucial role in Polynomial Regression because it helps us understand how well the model captures the underlying pattern in the data, especially when the relationship between variables is non-linear and complex.\n",
        "\n",
        "- Identifying the Shape of the Relationship:\n",
        "  - Visualization allows us to observe whether the actual data points follow a curved pattern, which can justify the use of a polynomial model.\n",
        "  - It helps decide whether a linear, quadratic, cubic, or higher-degree polynomial is suitable.\n",
        "\n",
        "- Detecting Underfitting and Overfitting:\n",
        "  - A plot of the predicted curve along with actual data points makes it easier to spot if the model is:\n",
        "    - Underfitting (too simple and missing the curve)\n",
        "    - Overfitting (too complex and following every fluctuation)\n",
        "\n",
        "- Evaluating Model Fit:\n",
        "  - Visualization provides an intuitive way to check how closely the regression curve follows the data points.\n",
        "  - It complements numerical metrics like R² and RMSE by giving a clear picture of the model's behavior.\n",
        "\n",
        "- Enhancing Interpretability:\n",
        "  - Complex equations can be difficult to understand, especially with higher-degree terms.\n",
        "  - A visual graph simplifies interpretation, showing how the dependent variable changes with the independent variable(s).\n",
        "\n",
        "- Detecting Outliers and Irregular Patterns:\n",
        "  - Visualization helps highlight outliers, gaps, or clusters in the data that may affect model accuracy.\n",
        "  - This enables better data cleaning and preprocessing.\n",
        "\n",
        "- Communication and Reporting:\n",
        "  - Visual plots are helpful in presentations, reports, and dashboards.\n",
        "  - They make it easier to communicate insights to non-technical stakeholders.\n",
        "\n",
        "- Visualization is essential in polynomial regression for understanding the model's performance, detecting problems like overfitting, and communicating results clearly. It adds a visual layer of insight that complements statistical evaluation."
      ],
      "metadata": {
        "id": "Zj5VssUEC1S9"
      }
    },
    {
      "cell_type": "markdown",
      "source": [
        "31. How is Polynomial Regression implemented in Python?\n",
        "- Polynomial Regression in Python can be implemented using libraries like scikit-learn. The process involves converting the original features into polynomial features, fitting a linear regression model to those features, and then using the model to make predictions.\n",
        "\n",
        "- Import Required Libraries:\n",
        "           import numpy as np\n",
        "           import pandas as pd\n",
        "           import matplotlib.pyplot as plt\n",
        "           from sklearn.linear_model import LinearRegression\n",
        "           from sklearn.preprocessing import PolynomialFeatures\n",
        "           from sklearn.metrics import mean_squared_error\n",
        "\n",
        "- Prepare the Data:\n",
        "      # Example dataset\n",
        "      X = np.array([1, 2, 3, 4, 5, 6, 7, 8, 9, 10]).reshape(-1, 1)\n",
        "      y = np.array([2.3, 2.9, 3.8, 4.4, 5.0, 6.8, 8.0, 9.5, 11.2, 12.8])\n",
        "\n",
        "- Create Polynomial Features:\n",
        "       poly = PolynomialFeatures(degree=2)  # Degree can be changed\n",
        "       X_poly = poly.fit_transform(X)\n",
        "\n",
        "- Fit the Model:\n",
        "       model = LinearRegression()\n",
        "       model.fit(X_poly, y)\n",
        "\n",
        "- Make Predictions:\n",
        "       y_pred = model.predict(X_poly)\n",
        "\n",
        "- Evaluate the Model:\n",
        "       mse = mean_squared_error(y, y_pred)\n",
        "       print(\"Mean Squared Error:\", mse)\n",
        "\n",
        "- Visualize the Results:\n",
        "       plt.scatter(X, y, color='blue', label='Actual')\n",
        "       plt.plot(X, y_pred, color='red', label='Polynomial Fit')\n",
        "       plt.title('Polynomial Regression')\n",
        "       plt.xlabel('X')\n",
        "       plt.ylabel('y')\n",
        "       plt.legend()\n",
        "       plt.show()\n",
        "    \n",
        "\n",
        "\n",
        "\n",
        "\n",
        "\n",
        "          "
      ],
      "metadata": {
        "id": "wKqddd2RC1dF"
      }
    },
    {
      "cell_type": "code",
      "source": [
        "#31 How is Polynomial Regression implemented in Python? (pratically solved)\n",
        "import numpy as np\n",
        "import pandas as pd\n",
        "import matplotlib.pyplot as plt\n",
        "from sklearn.linear_model import LinearRegression\n",
        "from sklearn.preprocessing import PolynomialFeatures\n",
        "from sklearn.metrics import mean_squared_error\n",
        "\n",
        "# Example dataset\n",
        "X = np.array([1, 2, 3, 4, 5, 6, 7, 8, 9, 10]).reshape(-1, 1)\n",
        "y = np.array([2.3, 2.9, 3.8, 4.4, 5.0, 6.8, 8.0, 9.5, 11.2, 12.8])\n",
        "\n",
        "poly = PolynomialFeatures(degree=2)  # Degree can be changed\n",
        "X_poly = poly.fit_transform(X)\n",
        "\n",
        "model = LinearRegression()\n",
        "model.fit(X_poly, y)\n",
        "\n",
        "y_pred = model.predict(X_poly)\n",
        "\n",
        "mse = mean_squared_error(y, y_pred)\n",
        "print(\"Mean Squared Error:\", mse)\n",
        "\n",
        "plt.scatter(X, y, color='blue', label='Actual')\n",
        "plt.plot(X, y_pred, color='red', label='Polynomial Fit')\n",
        "plt.title('Polynomial Regression')\n",
        "plt.xlabel('X')\n",
        "plt.ylabel('y')\n",
        "plt.legend()\n",
        "plt.show()\n",
        "\n",
        "\n",
        "\n",
        "\n",
        "\n",
        "\n"
      ],
      "metadata": {
        "colab": {
          "base_uri": "https://localhost:8080/",
          "height": 489
        },
        "id": "uMwp3ZmhAjR3",
        "outputId": "501195e7-1786-419e-a413-729bf6b1f2c4"
      },
      "execution_count": 7,
      "outputs": [
        {
          "output_type": "stream",
          "name": "stdout",
          "text": [
            "Mean Squared Error: 0.031216666666666688\n"
          ]
        },
        {
          "output_type": "display_data",
          "data": {
            "text/plain": [
              "<Figure size 640x480 with 1 Axes>"
            ],
            "image/png": "[encoded data removed]"
          },
          "metadata": {}
        }
      ]
    },
    {
      "cell_type": "markdown",
      "source": [],
      "metadata": {
        "id": "vQKOTEsmC1lx"
      }
    }
  ]
}